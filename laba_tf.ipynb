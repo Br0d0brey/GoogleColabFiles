{
  "nbformat": 4,
  "nbformat_minor": 0,
  "metadata": {
    "colab": {
      "provenance": [],
      "include_colab_link": true
    },
    "kernelspec": {
      "name": "python3",
      "display_name": "Python 3"
    },
    "language_info": {
      "name": "python"
    }
  },
  "cells": [
    {
      "cell_type": "markdown",
      "metadata": {
        "id": "view-in-github",
        "colab_type": "text"
      },
      "source": [
        "<a href=\"https://colab.research.google.com/github/Br0d0brey/GoogleColabFiles/blob/main/laba_tf.ipynb\" target=\"_parent\"><img src=\"https://colab.research.google.com/assets/colab-badge.svg\" alt=\"Open In Colab\"/></a>"
      ]
    },
    {
      "cell_type": "markdown",
      "metadata": {
        "id": "urwAmEF3QAXS"
      },
      "source": [
        "# Импорт TensorFlow"
      ]
    },
    {
      "cell_type": "code",
      "metadata": {
        "id": "wLcgNlYhQDhW"
      },
      "source": [
        "import tensorflow as tf\n",
        "\n",
        "from tensorflow.keras import datasets, layers, models\n",
        "import matplotlib.pyplot as plt"
      ],
      "execution_count": 1,
      "outputs": []
    },
    {
      "cell_type": "markdown",
      "metadata": {
        "id": "Q_q7k3i5QMwW"
      },
      "source": [
        "Fashion-MNIST - это набор данных изображений статей Zalando, состоящий из обучающего набора из 60 000 примеров и тестового набора из 10 000 примеров. Каждый пример представляет собой изображение в оттенках серого 28x28, связанное с меткой из 10 классов."
      ]
    },
    {
      "cell_type": "markdown",
      "metadata": {
        "id": "aKigVXQeQkxk"
      },
      "source": [
        "Керас ожидает такого формата данных:(n_samples, height, width, channels). Нужно добавить дополнительное измерение, для этого изменить свой тренировочный набор с помощью .reshape (n_images, высота, ширина, каналы). Т.к. у меня зображения в оттенках серого, у них есть 1 канал, поэтому они должны быть переданы Keras в следующем формате: (60 000, 28, 28, 1)"
      ]
    },
    {
      "cell_type": "code",
      "metadata": {
        "id": "oPmXmdI3QpRA",
        "colab": {
          "base_uri": "https://localhost:8080/"
        },
        "outputId": "42707569-4265-497e-a865-55a426a5884e"
      },
      "source": [
        "(train_images, train_labels), (test_images, test_labels) = datasets.fashion_mnist.load_data()\n",
        "train_images = train_images.reshape((60000, 28, 28, 1))\n",
        "train_images = train_images.astype('float32') / 255.0\n",
        "test_images = test_images.reshape((10000, 28, 28, 1))\n",
        "test_images = test_images.astype('float32') / 255.0"
      ],
      "execution_count": 2,
      "outputs": [
        {
          "output_type": "stream",
          "name": "stdout",
          "text": [
            "Downloading data from https://storage.googleapis.com/tensorflow/tf-keras-datasets/train-labels-idx1-ubyte.gz\n",
            "29515/29515 [==============================] - 0s 0us/step\n",
            "Downloading data from https://storage.googleapis.com/tensorflow/tf-keras-datasets/train-images-idx3-ubyte.gz\n",
            "26421880/26421880 [==============================] - 2s 0us/step\n",
            "Downloading data from https://storage.googleapis.com/tensorflow/tf-keras-datasets/t10k-labels-idx1-ubyte.gz\n",
            "5148/5148 [==============================] - 0s 0us/step\n",
            "Downloading data from https://storage.googleapis.com/tensorflow/tf-keras-datasets/t10k-images-idx3-ubyte.gz\n",
            "4422102/4422102 [==============================] - 0s 0us/step\n"
          ]
        }
      ]
    },
    {
      "cell_type": "code",
      "metadata": {
        "id": "6745NqatQR31"
      },
      "source": [
        "#(train_images, train_labels), (test_images, test_labels) = datasets.fashion_mnist.load_data()\n",
        "\n",
        "# Normalize pixel values to be between 0 and 1\n",
        "#train_images, test_images = train_images / 255.0, test_images / 255.0"
      ],
      "execution_count": 3,
      "outputs": []
    },
    {
      "cell_type": "markdown",
      "metadata": {
        "id": "w_pBg_4KRS6W"
      },
      "source": [
        "**Проверим данные**\n",
        "\n",
        "Чтобы убедиться, что набор данных выглядит правильно, давайте построим первые 25 изображений из обучающего набора и отобразим имя класса под каждым изображением:"
      ]
    },
    {
      "cell_type": "code",
      "metadata": {
        "colab": {
          "base_uri": "https://localhost:8080/",
          "height": 589
        },
        "id": "u-4SmUYCRKNe",
        "outputId": "db06540d-e956-45fe-888b-f81407ed3c25"
      },
      "source": [
        "class_names = [\"Футболка\", \"Брюки\", \"Пуловер\", \"Платье\", \"Пальто\",\n",
        "                \"Сандали\", \"Рубашка\", \"Кроссовки\", \"Сумка\", \"Ботинки\"]\n",
        "\n",
        "plt.figure(figsize=(10,10))\n",
        "for i in range(25):\n",
        "    plt.subplot(5,5,i+1)\n",
        "    plt.xticks([])\n",
        "    plt.yticks([])\n",
        "    plt.grid(False)\n",
        "    #plt.imshow(train_images[i])\n",
        "    plt.xlabel(class_names[train_labels[i]])\n",
        "plt.show()"
      ],
      "execution_count": 8,
      "outputs": [
        {
          "output_type": "display_data",
          "data": {
            "text/plain": [
              "<Figure size 720x720 with 25 Axes>"
            ],
            "image/png": "[encoded data removed]"
          },
          "metadata": {}
        }
      ]
    },
    {
      "cell_type": "markdown",
      "metadata": {
        "id": "8L_kSsOPUcqt"
      },
      "source": [
        "# Создам сверточную базу"
      ]
    },
    {
      "cell_type": "markdown",
      "metadata": {
        "id": "c8G-o5fzUiWd"
      },
      "source": [
        "Настраивается CNN для обработки входных данных размера (28, 28, 1), которая является форматом изображений fashion_mnist. "
      ]
    },
    {
      "cell_type": "code",
      "metadata": {
        "id": "DamP5uqCUaVc"
      },
      "source": [
        "model = models.Sequential()\n",
        "model.add(layers.Conv2D(32, (3, 3), activation='relu', input_shape=(28, 28, 1)))\n",
        "model.add(layers.MaxPooling2D((2, 2)))\n",
        "model.add(layers.Conv2D(64, (3, 3), activation='relu'))\n",
        "model.add(layers.MaxPooling2D((2, 2)))\n",
        "model.add(layers.Conv2D(64, (3, 3), activation='relu'))\n",
        "#model.add(Dropout(0.5))"
      ],
      "execution_count": 6,
      "outputs": []
    },
    {
      "cell_type": "markdown",
      "metadata": {
        "id": "uKkHz38OU-5F"
      },
      "source": [
        "Посмотрим архитектуру модели:"
      ]
    },
    {
      "cell_type": "code",
      "metadata": {
        "colab": {
          "base_uri": "https://localhost:8080/"
        },
        "id": "5VGqVnnzU8vl",
        "outputId": "7d771753-9d68-4d8a-cf48-f94ebd45ccd3"
      },
      "source": [
        "model.summary()"
      ],
      "execution_count": null,
      "outputs": [
        {
          "output_type": "stream",
          "name": "stdout",
          "text": [
            "Model: \"sequential\"\n",
            "_________________________________________________________________\n",
            " Layer (type)                Output Shape              Param #   \n",
            "=================================================================\n",
            " conv2d (Conv2D)             (None, 26, 26, 32)        320       \n",
            "                                                                 \n",
            " max_pooling2d (MaxPooling2D  (None, 13, 13, 32)       0         \n",
            " )                                                               \n",
            "                                                                 \n",
            " conv2d_1 (Conv2D)           (None, 11, 11, 64)        18496     \n",
            "                                                                 \n",
            " max_pooling2d_1 (MaxPooling  (None, 5, 5, 64)         0         \n",
            " 2D)                                                             \n",
            "                                                                 \n",
            " conv2d_2 (Conv2D)           (None, 3, 3, 64)          36928     \n",
            "                                                                 \n",
            "=================================================================\n",
            "Total params: 55,744\n",
            "Trainable params: 55,744\n",
            "Non-trainable params: 0\n",
            "_________________________________________________________________\n"
          ]
        }
      ]
    },
    {
      "cell_type": "markdown",
      "metadata": {
        "id": "e8L8DfkYVK1y"
      },
      "source": [
        "Добавление полносвязных слоев"
      ]
    },
    {
      "cell_type": "code",
      "metadata": {
        "id": "RXqWM6fNVI90"
      },
      "source": [
        "model.add(layers.Flatten())\n",
        "model.add(layers.Dense(64, activation='relu'))\n",
        "model.add(layers.Dense(10))"
      ],
      "execution_count": null,
      "outputs": []
    },
    {
      "cell_type": "markdown",
      "metadata": {
        "id": "EFA_3ho0VPkk"
      },
      "source": [
        "Полная архитектура модели:"
      ]
    },
    {
      "cell_type": "code",
      "metadata": {
        "colab": {
          "base_uri": "https://localhost:8080/"
        },
        "id": "txhc_qE6VRFU",
        "outputId": "e0b995a6-2fc7-4f3a-b6ba-a6c825f74004"
      },
      "source": [
        "model.summary()"
      ],
      "execution_count": null,
      "outputs": [
        {
          "output_type": "stream",
          "name": "stdout",
          "text": [
            "Model: \"sequential\"\n",
            "_________________________________________________________________\n",
            " Layer (type)                Output Shape              Param #   \n",
            "=================================================================\n",
            " conv2d (Conv2D)             (None, 26, 26, 32)        320       \n",
            "                                                                 \n",
            " max_pooling2d (MaxPooling2D  (None, 13, 13, 32)       0         \n",
            " )                                                               \n",
            "                                                                 \n",
            " conv2d_1 (Conv2D)           (None, 11, 11, 64)        18496     \n",
            "                                                                 \n",
            " max_pooling2d_1 (MaxPooling  (None, 5, 5, 64)         0         \n",
            " 2D)                                                             \n",
            "                                                                 \n",
            " conv2d_2 (Conv2D)           (None, 3, 3, 64)          36928     \n",
            "                                                                 \n",
            " flatten (Flatten)           (None, 576)               0         \n",
            "                                                                 \n",
            " dense (Dense)               (None, 64)                36928     \n",
            "                                                                 \n",
            " dense_1 (Dense)             (None, 10)                650       \n",
            "                                                                 \n",
            "=================================================================\n",
            "Total params: 93,322\n",
            "Trainable params: 93,322\n",
            "Non-trainable params: 0\n",
            "_________________________________________________________________\n"
          ]
        }
      ]
    },
    {
      "cell_type": "markdown",
      "metadata": {
        "id": "dZxz0gjGVVWc"
      },
      "source": [
        "Сводка сети показывает, что выходы (3, 3, 64) были сглажены в векторы размера (576) перед прохождением через два полносвязных слоя."
      ]
    },
    {
      "cell_type": "markdown",
      "metadata": {
        "id": "feYeOjcwVcjk"
      },
      "source": [
        "# Компилирование и обучение модели"
      ]
    },
    {
      "cell_type": "code",
      "metadata": {
        "colab": {
          "base_uri": "https://localhost:8080/"
        },
        "id": "QWFECmd8VTMV",
        "outputId": "f5a048bd-6664-4847-cd12-846afc26b519"
      },
      "source": [
        "model.compile(optimizer='adam',\n",
        "              loss=tf.keras.losses.SparseCategoricalCrossentropy(from_logits=True),\n",
        "              metrics=['accuracy'])\n",
        "\n",
        "history = model.fit(train_images, train_labels, epochs=10, validation_data=(test_images, test_labels))"
      ],
      "execution_count": null,
      "outputs": [
        {
          "output_type": "stream",
          "name": "stdout",
          "text": [
            "Epoch 1/10\n",
            "1875/1875 [==============================] - 56s 30ms/step - loss: 0.5000 - accuracy: 0.8174 - val_loss: 0.3664 - val_accuracy: 0.8719\n",
            "Epoch 2/10\n",
            "1875/1875 [==============================] - 54s 29ms/step - loss: 0.3229 - accuracy: 0.8823 - val_loss: 0.3355 - val_accuracy: 0.8780\n",
            "Epoch 3/10\n",
            "1875/1875 [==============================] - 54s 29ms/step - loss: 0.2775 - accuracy: 0.8978 - val_loss: 0.2992 - val_accuracy: 0.8900\n",
            "Epoch 4/10\n",
            "1875/1875 [==============================] - 54s 29ms/step - loss: 0.2469 - accuracy: 0.9092 - val_loss: 0.2712 - val_accuracy: 0.9033\n",
            "Epoch 5/10\n",
            "1875/1875 [==============================] - 53s 29ms/step - loss: 0.2221 - accuracy: 0.9185 - val_loss: 0.2677 - val_accuracy: 0.9022\n",
            "Epoch 6/10\n",
            "1875/1875 [==============================] - 53s 28ms/step - loss: 0.2021 - accuracy: 0.9252 - val_loss: 0.2636 - val_accuracy: 0.9056\n",
            "Epoch 7/10\n",
            "1875/1875 [==============================] - 53s 29ms/step - loss: 0.1848 - accuracy: 0.9303 - val_loss: 0.2660 - val_accuracy: 0.9109\n",
            "Epoch 8/10\n",
            "1875/1875 [==============================] - 53s 28ms/step - loss: 0.1680 - accuracy: 0.9380 - val_loss: 0.2751 - val_accuracy: 0.9067\n",
            "Epoch 9/10\n",
            "1875/1875 [==============================] - 54s 29ms/step - loss: 0.1535 - accuracy: 0.9424 - val_loss: 0.2702 - val_accuracy: 0.9064\n",
            "Epoch 10/10\n",
            "1875/1875 [==============================] - 53s 28ms/step - loss: 0.1431 - accuracy: 0.9465 - val_loss: 0.2813 - val_accuracy: 0.9091\n"
          ]
        }
      ]
    },
    {
      "cell_type": "markdown",
      "metadata": {
        "id": "gIl5yXNrSSCg"
      },
      "source": [
        "**CNN достигла точности на тестовой выборке более 90%:**"
      ]
    },
    {
      "cell_type": "code",
      "metadata": {
        "colab": {
          "base_uri": "https://localhost:8080/",
          "height": 173
        },
        "id": "d4dthlBNSWSW",
        "outputId": "dfb60592-904e-4538-bc22-da80859a7a3f"
      },
      "source": [
        "print(test_acc)"
      ],
      "execution_count": null,
      "outputs": [
        {
          "output_type": "error",
          "ename": "NameError",
          "evalue": "ignored",
          "traceback": [
            "\u001b[0;31m---------------------------------------------------------------------------\u001b[0m",
            "\u001b[0;31mNameError\u001b[0m                                 Traceback (most recent call last)",
            "\u001b[0;32m<ipython-input-15-6306d37957a6>\u001b[0m in \u001b[0;36m<module>\u001b[0;34m()\u001b[0m\n\u001b[0;32m----> 1\u001b[0;31m \u001b[0mprint\u001b[0m\u001b[0;34m(\u001b[0m\u001b[0mtest_acc\u001b[0m\u001b[0;34m)\u001b[0m\u001b[0;34m\u001b[0m\u001b[0;34m\u001b[0m\u001b[0m\n\u001b[0m",
            "\u001b[0;31mNameError\u001b[0m: name 'test_acc' is not defined"
          ]
        }
      ]
    },
    {
      "cell_type": "code",
      "metadata": {
        "colab": {
          "base_uri": "https://localhost:8080/",
          "height": 302
        },
        "id": "9Hce7f0WSIQx",
        "outputId": "d2a266e1-ee5d-4808-94a9-f50024da99c6"
      },
      "source": [
        "plt.plot(history.history['accuracy'], label='accuracy')\n",
        "plt.plot(history.history['val_accuracy'], label = 'val_accuracy')\n",
        "plt.xlabel('Epoch')\n",
        "plt.ylabel('Accuracy')\n",
        "plt.ylim([0.5, 1])\n",
        "plt.legend(loc='lower right')\n",
        "\n",
        "test_loss, test_acc = model.evaluate(test_images,  test_labels, verbose=2)"
      ],
      "execution_count": null,
      "outputs": [
        {
          "output_type": "stream",
          "name": "stdout",
          "text": [
            "313/313 - 2s - loss: 0.2813 - accuracy: 0.9091 - 2s/epoch - 7ms/step\n"
          ]
        },
        {
          "output_type": "display_data",
          "data": {
            "image/png": "[encoded data removed]",
            "text/plain": [
              "<Figure size 432x288 with 1 Axes>"
            ]
          },
          "metadata": {
            "needs_background": "light"
          }
        }
      ]
    },
    {
      "cell_type": "code",
      "metadata": {
        "colab": {
          "base_uri": "https://localhost:8080/"
        },
        "id": "y7ZZL9rPSN59",
        "outputId": "c1fc73a8-5628-4060-d6c4-b0915f073900"
      },
      "source": [
        "test_labels"
      ],
      "execution_count": null,
      "outputs": [
        {
          "output_type": "execute_result",
          "data": {
            "text/plain": [
              "array([9, 2, 1, ..., 8, 1, 5], dtype=uint8)"
            ]
          },
          "metadata": {},
          "execution_count": 17
        }
      ]
    }
  ]
}