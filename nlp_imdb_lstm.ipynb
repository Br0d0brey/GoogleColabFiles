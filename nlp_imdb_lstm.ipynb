{
  "nbformat": 4,
  "nbformat_minor": 0,
  "metadata": {
    "colab": {
      "provenance": [],
      "include_colab_link": true
    },
    "kernelspec": {
      "name": "python3",
      "display_name": "Python 3"
    },
    "accelerator": "GPU"
  },
  "cells": [
    {
      "cell_type": "markdown",
      "metadata": {
        "id": "view-in-github",
        "colab_type": "text"
      },
      "source": [
        "<a href=\"https://colab.research.google.com/github/Br0d0brey/GoogleColabFiles/blob/main/nlp_imdb_lstm.ipynb\" target=\"_parent\"><img src=\"https://colab.research.google.com/assets/colab-badge.svg\" alt=\"Open In Colab\"/></a>"
      ]
    },
    {
      "cell_type": "code",
      "metadata": {
        "id": "lpsyhVlJX5XH",
        "colab": {
          "base_uri": "https://localhost:8080/"
        },
        "outputId": "d6515a5c-583d-435f-8313-2ab4e99c4453"
      },
      "source": [
        "%pylab inline\n",
        "import re\n",
        "import math\n",
        "import string\n",
        "from collections import Counter\n",
        "import requests\n"
      ],
      "execution_count": null,
      "outputs": [
        {
          "output_type": "stream",
          "name": "stdout",
          "text": [
            "Populating the interactive namespace from numpy and matplotlib\n"
          ]
        }
      ]
    },
    {
      "cell_type": "code",
      "metadata": {
        "id": "kBUUyZ4cbxoM",
        "colab": {
          "base_uri": "https://localhost:8080/"
        },
        "outputId": "0b54ed55-314a-4350-e87c-419f29258bef"
      },
      "source": [
        "TEXT = requests.get('https://norvig.com/big.txt').text\n",
        "len(TEXT)"
      ],
      "execution_count": null,
      "outputs": [
        {
          "output_type": "execute_result",
          "data": {
            "text/plain": [
              "6488666"
            ]
          },
          "metadata": {},
          "execution_count": 2
        }
      ]
    },
    {
      "cell_type": "code",
      "metadata": {
        "id": "toRj2Xs1NZgB"
      },
      "source": [
        "def tokens(text):\n",
        "    \"\"\"Возвращает список токенов (подряд идущих буквенных последовательностей) в тексте. \n",
        "       Текст при этом приводится к нижнему регистру.\"\"\"\n",
        "    return re.findall(r'[a-z]+', text.lower())"
      ],
      "execution_count": null,
      "outputs": []
    },
    {
      "cell_type": "code",
      "metadata": {
        "id": "PiZZxRZhMVWv",
        "colab": {
          "base_uri": "https://localhost:8080/"
        },
        "outputId": "bf3024c8-1937-40d7-f937-d292ffa72128"
      },
      "source": [
        "tokens('This is: A test, 1, 2, 3, this is.')"
      ],
      "execution_count": null,
      "outputs": [
        {
          "output_type": "execute_result",
          "data": {
            "text/plain": [
              "['this', 'is', 'a', 'test', 'this', 'is']"
            ]
          },
          "metadata": {},
          "execution_count": 4
        }
      ]
    },
    {
      "cell_type": "code",
      "metadata": {
        "id": "0YrjnapvMVwf",
        "colab": {
          "base_uri": "https://localhost:8080/"
        },
        "outputId": "d44d42d8-0eb8-4051-ed08-e744241ad9d3"
      },
      "source": [
        "WORDS = tokens(TEXT)\n",
        "len(WORDS)\n",
        "\n"
      ],
      "execution_count": null,
      "outputs": [
        {
          "output_type": "execute_result",
          "data": {
            "text/plain": [
              "1105285"
            ]
          },
          "metadata": {},
          "execution_count": 5
        }
      ]
    },
    {
      "cell_type": "code",
      "metadata": {
        "id": "SnANlxwYMcNX",
        "outputId": "871ca81d-adc4-420b-e8bd-a7ccfb61d229",
        "colab": {
          "base_uri": "https://localhost:8080/"
        }
      },
      "source": [
        "print(WORDS[:10])"
      ],
      "execution_count": null,
      "outputs": [
        {
          "output_type": "stream",
          "name": "stdout",
          "text": [
            "['the', 'project', 'gutenberg', 'ebook', 'of', 'the', 'adventures', 'of', 'sherlock', 'holmes']\n"
          ]
        }
      ]
    },
    {
      "cell_type": "code",
      "metadata": {
        "id": "Lrzx1e4xTgzL"
      },
      "source": [
        "def sample(bag, n=10):\n",
        "    \"Sample a random n-word sentence from the model described by the bag of words.\"\n",
        "    return ' '.join(random.choice(bag) for _ in range(n))"
      ],
      "execution_count": null,
      "outputs": []
    },
    {
      "cell_type": "code",
      "metadata": {
        "id": "u1yNam-uSunE",
        "colab": {
          "base_uri": "https://localhost:8080/",
          "height": 36
        },
        "outputId": "2cfe9f9d-3307-4e5d-e2db-2a1b764dfdca"
      },
      "source": [
        "sample(WORDS)\n",
        "\n"
      ],
      "execution_count": null,
      "outputs": [
        {
          "output_type": "execute_result",
          "data": {
            "application/vnd.google.colaboratory.intrinsic+json": {
              "type": "string"
            },
            "text/plain": [
              "'the and degenerative to only standards domestic of for s'"
            ]
          },
          "metadata": {},
          "execution_count": 8
        }
      ]
    },
    {
      "cell_type": "code",
      "metadata": {
        "id": "AkmNH7ahYLyc",
        "outputId": "6cfa1055-e8f5-4724-c5b3-b75d9ded1b33",
        "colab": {
          "base_uri": "https://localhost:8080/"
        }
      },
      "source": [
        "Counter(tokens('Is this a test? It is a test!'))"
      ],
      "execution_count": null,
      "outputs": [
        {
          "output_type": "execute_result",
          "data": {
            "text/plain": [
              "Counter({'a': 2, 'is': 2, 'it': 1, 'test': 2, 'this': 1})"
            ]
          },
          "metadata": {},
          "execution_count": 9
        }
      ]
    },
    {
      "cell_type": "code",
      "metadata": {
        "id": "a19UCeAMDhQK",
        "outputId": "e2eddd3b-57c6-4194-fa64-25788c1cdf4d",
        "colab": {
          "base_uri": "https://localhost:8080/"
        }
      },
      "source": [
        "COUNTS = Counter(WORDS)\n",
        "\n",
        "print(COUNTS.most_common(10))"
      ],
      "execution_count": null,
      "outputs": [
        {
          "output_type": "stream",
          "name": "stdout",
          "text": [
            "[('the', 80030), ('of', 40025), ('and', 38313), ('to', 28766), ('in', 22050), ('a', 21155), ('that', 12512), ('he', 12401), ('was', 11410), ('it', 10681)]\n"
          ]
        }
      ]
    },
    {
      "cell_type": "code",
      "metadata": {
        "id": "J1_ilV14EKBO"
      },
      "source": [
        "def correct(word):\n",
        "    \"Поиск лучшего исправления ошибки для данного слова.\"\n",
        "    # предрассчитать edit_distance==0, затем 1, затем 2; в противном случае оставить слово \"как есть\".\n",
        "    candidates = (known(edits0(word)) or \n",
        "                  known(edits1(word)) or \n",
        "                  known(edits2(word)) or \n",
        "                  [word])\n",
        "    return max(candidates, key=COUNTS.get)"
      ],
      "execution_count": null,
      "outputs": []
    },
    {
      "cell_type": "code",
      "source": [
        "def known(words):\n",
        "    \"Вернуть подмножество слов, которое есть в нашем словаре.\"\n",
        "    return {w for w in words if w in COUNTS}\n",
        "\n",
        "def edits0(word): \n",
        "    \"Вернуть все строки, которые находятся на edit_distance == 0 от word (т.е., просто само слово).\"\n",
        "    return {word}\n",
        "\n",
        "def edits2(word):\n",
        "    \"Вернуть все строки, которые находятся на edit_distance == 2 от word.\"\n",
        "    return {e2 for e1 in edits1(word) for e2 in edits1(e1)}"
      ],
      "metadata": {
        "id": "OtpdMFeHihd5"
      },
      "execution_count": null,
      "outputs": []
    },
    {
      "cell_type": "code",
      "source": [
        "def edits1(word):\n",
        "    \"Возвращает список всех строк на расстоянии edit_distance == 1 от word.\"\n",
        "    pairs      = splits(word)\n",
        "    deletes    = [a+b[1:]           for (a, b) in pairs if b]\n",
        "    transposes = [a+b[1]+b[0]+b[2:] for (a, b) in pairs if len(b) > 1]\n",
        "    replaces   = [a+c+b[1:]         for (a, b) in pairs for c in alphabet if b]\n",
        "    inserts    = [a+c+b             for (a, b) in pairs for c in alphabet]\n",
        "    return set(deletes + transposes + replaces + inserts)\n",
        "\n",
        "def splits(word):\n",
        "    \"Возвращает список всех возможных разбиений слова на пару (a, b).\"\n",
        "    return [(word[:i], word[i:]) \n",
        "            for i in range(len(word)+1)]\n",
        "\n",
        "alphabet = 'abcdefghijklmnopqrstuvwxyz'\n",
        "\n"
      ],
      "metadata": {
        "id": "lz2nvr_yihjN"
      },
      "execution_count": null,
      "outputs": []
    },
    {
      "cell_type": "code",
      "source": [
        "splits('wird')"
      ],
      "metadata": {
        "id": "jgXSjI8nihnu",
        "outputId": "5480bbc4-752c-4c55-80c7-9f2f26926689",
        "colab": {
          "base_uri": "https://localhost:8080/"
        }
      },
      "execution_count": null,
      "outputs": [
        {
          "output_type": "execute_result",
          "data": {
            "text/plain": [
              "[('', 'wird'), ('w', 'ird'), ('wi', 'rd'), ('wir', 'd'), ('wird', '')]"
            ]
          },
          "metadata": {},
          "execution_count": 14
        }
      ]
    },
    {
      "cell_type": "code",
      "source": [
        "print(edits0('wird'))"
      ],
      "metadata": {
        "id": "43-OqyVxihqv",
        "outputId": "62853ca1-62cf-4ed6-9f74-c56e23dcbe4a",
        "colab": {
          "base_uri": "https://localhost:8080/"
        }
      },
      "execution_count": null,
      "outputs": [
        {
          "output_type": "stream",
          "name": "stdout",
          "text": [
            "{'wird'}\n"
          ]
        }
      ]
    },
    {
      "cell_type": "code",
      "source": [
        "print(edits1('wird'))\n",
        "\n"
      ],
      "metadata": {
        "id": "KXNk66ObjCFy",
        "outputId": "4a14c83a-53db-4236-d756-8c34206d4331",
        "colab": {
          "base_uri": "https://localhost:8080/"
        }
      },
      "execution_count": null,
      "outputs": [
        {
          "output_type": "stream",
          "name": "stdout",
          "text": [
            "{'wircd', 'wirdb', 'oird', 'wikd', 'wqrd', 'wimd', 'wirv', 'wqird', 'wiard', 'gwird', 'wifrd', 'wirod', 'qwird', 'woird', 'wid', 'whrd', 'wiro', 'wizrd', 'hird', 'wirdf', 'aird', 'iwrd', 'iird', 'iwird', 'wijrd', 'wirm', 'wirdk', 'wvrd', 'wcrd', 'wuird', 'awird', 'wimrd', 'vwird', 'wira', 'winrd', 'wixrd', 'wbird', 'mird', 'wijd', 'cird', 'swird', 'wirqd', 'bwird', 'wwrd', 'wipd', 'wirgd', 'xwird', 'wierd', 'widrd', 'wiyd', 'kwird', 'wibrd', 'wpird', 'wprd', 'wyird', 'wirb', 'werd', 'uwird', 'wikrd', 'wirn', 'wnrd', 'widr', 'uird', 'wirda', 'wirnd', 'owird', 'wkrd', 'wirw', 'wiqrd', 'wirkd', 'wmrd', 'wirdv', 'sird', 'xird', 'wirds', 'wirz', 'wirdn', 'wirpd', 'wurd', 'wxrd', 'wirjd', 'wiqd', 'wzrd', 'wkird', 'wirg', 'wirld', 'wirdz', 'wivrd', 'wiyrd', 'wiud', 'word', 'wtird', 'wirdl', 'wirde', 'wilrd', 'dird', 'wyrd', 'wirbd', 'wirwd', 'waird', 'bird', 'wicd', 'wifd', 'wiwd', 'wbrd', 'wjrd', 'vird', 'wirdd', 'wirtd', 'wmird', 'wirdi', 'wfrd', 'cwird', 'wiord', 'wirhd', 'whird', 'ird', 'wxird', 'wrrd', 'wirdy', 'wwird', 'wirc', 'wirrd', 'wirzd', 'wsrd', 'wild', 'wied', 'wrd', 'wigrd', 'wlird', 'wiprd', 'wirl', 'wigd', 'wirad', 'nwird', 'wirdq', 'wiry', 'fird', 'wnird', 'wirdg', 'widd', 'wirmd', 'wisd', 'wjird', 'wzird', 'wire', 'wiid', 'wirdw', 'wixd', 'wir', 'ywird', 'ward', 'wiod', 'witd', 'lird', 'wiru', 'wirdj', 'wibd', 'wdrd', 'wirh', 'wiad', 'wfird', 'wirdt', 'wirf', 'rird', 'mwird', 'wgrd', 'wirj', 'wirp', 'wcird', 'lwird', 'wiryd', 'wirdc', 'wiri', 'wirdu', 'wirud', 'wrid', 'dwird', 'wired', 'wird', 'zwird', 'wtrd', 'twird', 'wihd', 'wirid', 'wirdr', 'wirt', 'wlrd', 'wvird', 'wirs', 'kird', 'wgird', 'wrird', 'wirvd', 'fwird', 'wind', 'pwird', 'wirxd', 'wirsd', 'gird', 'wirx', 'wirr', 'wirdx', 'wirq', 'wsird', 'nird', 'ewird', 'pird', 'jwird', 'weird', 'witrd', 'wiwrd', 'wizd', 'rwird', 'wirfd', 'wirdp', 'wivd', 'wirdo', 'tird', 'hwird', 'wicrd', 'wirdh', 'wirdm', 'wiird', 'eird', 'wisrd', 'wirk', 'wihrd', 'wdird', 'wiurd', 'qird', 'zird', 'yird', 'jird'}\n"
          ]
        }
      ]
    },
    {
      "cell_type": "code",
      "source": [
        "print(len(edits2('wird')))"
      ],
      "metadata": {
        "id": "cHVNJQRqjF1Z",
        "outputId": "1443efbe-850d-4a98-bec4-38e4d0dc6f9e",
        "colab": {
          "base_uri": "https://localhost:8080/"
        }
      },
      "execution_count": null,
      "outputs": [
        {
          "output_type": "stream",
          "name": "stdout",
          "text": [
            "24254\n"
          ]
        }
      ]
    },
    {
      "cell_type": "code",
      "source": [
        "tokens('Speling errurs in somethink. Whutever; unusuel misteakes everyware?')\n",
        "\n"
      ],
      "metadata": {
        "id": "EcmPcNSRjIAy",
        "outputId": "00391528-9607-4cbd-af2e-8529676d5937",
        "colab": {
          "base_uri": "https://localhost:8080/"
        }
      },
      "execution_count": null,
      "outputs": [
        {
          "output_type": "execute_result",
          "data": {
            "text/plain": [
              "['speling',\n",
              " 'errurs',\n",
              " 'in',\n",
              " 'somethink',\n",
              " 'whutever',\n",
              " 'unusuel',\n",
              " 'misteakes',\n",
              " 'everyware']"
            ]
          },
          "metadata": {},
          "execution_count": 18
        }
      ]
    },
    {
      "cell_type": "code",
      "source": [
        "list(map(correct, tokens('Speling errurs in somethink. Whutever; unusuel misteakes everyware?')))"
      ],
      "metadata": {
        "id": "fFMm4rOxjIIl",
        "outputId": "19770975-1591-488c-c1b9-58e045699e66",
        "colab": {
          "base_uri": "https://localhost:8080/"
        }
      },
      "execution_count": null,
      "outputs": [
        {
          "output_type": "execute_result",
          "data": {
            "text/plain": [
              "['spelling',\n",
              " 'errors',\n",
              " 'in',\n",
              " 'something',\n",
              " 'whatever',\n",
              " 'unusual',\n",
              " 'mistakes',\n",
              " 'everywhere']"
            ]
          },
          "metadata": {},
          "execution_count": 19
        }
      ]
    },
    {
      "cell_type": "code",
      "source": [
        "list(map(correct, tokens('Speling errurs in somethink. Whutever; unusuel misteakes everyware?')))"
      ],
      "metadata": {
        "id": "DMwDNKfrX2LI",
        "outputId": "02903c87-6dc8-4a8c-a078-136b02c3e04a",
        "colab": {
          "base_uri": "https://localhost:8080/"
        }
      },
      "execution_count": null,
      "outputs": [
        {
          "output_type": "execute_result",
          "data": {
            "text/plain": [
              "['spelling',\n",
              " 'errors',\n",
              " 'in',\n",
              " 'something',\n",
              " 'whatever',\n",
              " 'unusual',\n",
              " 'mistakes',\n",
              " 'everywhere']"
            ]
          },
          "metadata": {},
          "execution_count": 20
        }
      ]
    },
    {
      "cell_type": "code",
      "source": [
        "def correct_text(text):\n",
        "    \"Исправить все слова с опечатками в тексте.\"\n",
        "    return re.sub('[a-zA-Z]+', correct_match, text)\n",
        "\n",
        "def correct_match(match):\n",
        "    \"Исправить слово word в match-группе, сохранив регистр: upper/lower/title.\"\n",
        "    word = match.group()\n",
        "    return case_of(word)(correct(word.lower()))\n",
        "\n",
        "def case_of(text):\n",
        "    \"Возвращает функцию регистра по тексту: upper, lower, title, или str.\"\n",
        "    return (str.upper if text.isupper() else\n",
        "            str.lower if text.islower() else\n",
        "            str.title if text.istitle() else\n",
        "            str)"
      ],
      "metadata": {
        "id": "XqgiLT1jjIQS"
      },
      "execution_count": null,
      "outputs": []
    },
    {
      "cell_type": "code",
      "source": [
        "list(map(case_of, ['UPPER', 'lower', 'Title', 'CamelCase']))"
      ],
      "metadata": {
        "id": "Kl2gpdrXjZeV",
        "outputId": "dae3f634-d40f-46c3-92b8-fcda3131cc31",
        "colab": {
          "base_uri": "https://localhost:8080/"
        }
      },
      "execution_count": null,
      "outputs": [
        {
          "output_type": "execute_result",
          "data": {
            "text/plain": [
              "[<method 'upper' of 'str' objects>,\n",
              " <method 'lower' of 'str' objects>,\n",
              " <method 'title' of 'str' objects>,\n",
              " str]"
            ]
          },
          "metadata": {},
          "execution_count": 22
        }
      ]
    },
    {
      "cell_type": "code",
      "source": [
        "correct_text('Speling Errurs IN somethink. Whutever; unusuel misteakes?')\n",
        "\n"
      ],
      "metadata": {
        "id": "RnIpIbMvjZpS",
        "outputId": "db2e5f5a-74c7-485d-a364-9f4127f624da",
        "colab": {
          "base_uri": "https://localhost:8080/",
          "height": 36
        }
      },
      "execution_count": null,
      "outputs": [
        {
          "output_type": "execute_result",
          "data": {
            "application/vnd.google.colaboratory.intrinsic+json": {
              "type": "string"
            },
            "text/plain": [
              "'Spelling Errors IN something. Whatever; unusual mistakes?'"
            ]
          },
          "metadata": {},
          "execution_count": 23
        }
      ]
    },
    {
      "cell_type": "code",
      "source": [
        "correct_text('Intense Tropical Cyclone Batsirai was a deadly cyclone in 2022 that became the strongest tropical cyclone to strike Madagascar since Cyclone Enawo in 2017 and made landfall shortly after Tropical Storm Ana, which heavily impacted Madagascar earlier in the 2021–22 South-West Indian Ocean cyclone season.[1][2] The second tropical disturbance, the first tropical cyclone, and the first intense tropical cyclone of the season, Batsirai originated from a tropical disturbance that was first noted on 24 January. It fluctuated in intensity and became a moderate tropical storm on 27 January, after which it unexpectedly rapidly intensified into an intense tropical cyclone. It then weakened and struggled to intensify through the coming days due to present wind shear and dry air, where it weakened after some time. Afterward, it entered much more favorable conditions, rapidly intensified yet again to a high-end Category 4 cyclone on the Saffir–Simpson scale while moving towards Madagascar. The storm underwent an eyewall replacement cycle the next day, and fluctuated in intensity before making landfall in Madagascar as a Category 3 cyclone, later rapidly weakening due to the mountainous terrain on the island.')"
      ],
      "metadata": {
        "id": "fGM1b-bsjcsy",
        "outputId": "5eaa508a-da80-4aae-e15d-c7c7b7d1ac32",
        "colab": {
          "base_uri": "https://localhost:8080/",
          "height": 147
        }
      },
      "execution_count": null,
      "outputs": [
        {
          "output_type": "execute_result",
          "data": {
            "application/vnd.google.colaboratory.intrinsic+json": {
              "type": "string"
            },
            "text/plain": [
              "'Intense Tropical Cycle Batsirai was a deadly cycle in 2022 that became the strongest tropical cycle to strike Madagascar since Cycle Enact in 2017 and made windfall shortly after Tropical Storm Ana, which heavily impacted Madagascar earlier in the 2021–22 South-West Indian Ocean cycle season.[1][2] The second tropical disturbance, the first tropical cycle, and the first intense tropical cycle of the season, Batsirai originated from a tropical disturbance that was first noted on 24 January. It fluctuated in intensity and became a moderate tropical storm on 27 January, after which it unexpectedly rapidly intensified into an intense tropical cycle. It then weakened and struggled to intensify through the coming days due to present wind hear and dry air, where it weakened after some time. Afterward, it entered much more favorable conditions, rapidly intensified yet again to a high-end Category 4 cycle on the Affair–Simpson scale while moving towards Madagascar. The storm underwent an eyeball replacement cycle the next day, and fluctuated in intensity before making windfall in Madagascar as a Category 3 cycle, later rapidly weakening due to the mountainous terrain on the island.'"
            ]
          },
          "metadata": {},
          "execution_count": 27
        }
      ]
    }
  ]
}